{
  "metadata": {
    "kernelspec": {
      "name": "python",
      "display_name": "Python (Pyodide)",
      "language": "python"
    },
    "language_info": {
      "codemirror_mode": {
        "name": "python",
        "version": 3
      },
      "file_extension": ".py",
      "mimetype": "text/x-python",
      "name": "python",
      "nbconvert_exporter": "python",
      "pygments_lexer": "ipython3",
      "version": "3.8"
    }
  },
  "nbformat_minor": 5,
  "nbformat": 4,
  "cells": [
    {
      "id": "78c2461c-c51f-4cc5-8f36-c5059bb0d6bf",
      "cell_type": "markdown",
      "source": "# Data Science Tools and Ecosystem",
      "metadata": {}
    },
    {
      "id": "43eef0d2-a5e9-461d-a4c4-6ba8072f8d38",
      "cell_type": "markdown",
      "source": "In this notebook, Data Science Tools and Ecoysystems are summarized",
      "metadata": {}
    },
    {
      "id": "1d2e7f66-a911-493f-a819-3a7ccc23c2c7",
      "cell_type": "markdown",
      "source": "Some of the popular languages that Data Scientists use are: \n1. Python\n2. R\n3. C++\n",
      "metadata": {}
    },
    {
      "id": "b8f49892-7667-4b0c-906c-8f3db5972662",
      "cell_type": "markdown",
      "source": "Some of the commonly used libraries used by Data Scientists include:\n1. matplotlib\n2. TensorFlow\n3. ggplot",
      "metadata": {}
    },
    {
      "id": "45a6f5fa-63df-451e-a7df-994de83574d9",
      "cell_type": "markdown",
      "source": "|Data Science Tools|\n|------------------|\n|R Studio|\n|Jupyter Notebook|\n|VS Code|\n",
      "metadata": {}
    },
    {
      "id": "d900183e-66f2-4c47-92fa-9d468d6c3ce1",
      "cell_type": "markdown",
      "source": "Below are a few examples of evaluating arithmetic expressions in Python",
      "metadata": {}
    },
    {
      "id": "1faee830-cca2-41a9-9a27-2c9e49a761c3",
      "cell_type": "code",
      "source": "# This is a simple arithmetic expression to multiply then add integers\n(3*4)+5",
      "metadata": {
        "trusted": true
      },
      "outputs": [
        {
          "execution_count": 2,
          "output_type": "execute_result",
          "data": {
            "text/plain": "17"
          },
          "metadata": {}
        }
      ],
      "execution_count": 2
    },
    {
      "id": "820757d7-ff71-4cec-b060-dd6157b7f89a",
      "cell_type": "code",
      "source": "# This will convert 200 minutes to hours by dividing by 60\n200/60",
      "metadata": {
        "trusted": true
      },
      "outputs": [
        {
          "execution_count": 5,
          "output_type": "execute_result",
          "data": {
            "text/plain": "3.3333333333333335"
          },
          "metadata": {}
        }
      ],
      "execution_count": 5
    },
    {
      "id": "df2d62ce-5b8b-4ff4-aa44-29d04ea39338",
      "cell_type": "markdown",
      "source": "**Objectives:**\n- adding unordered list\n- adding ordered list\n- adding markdown cell\n- adding headings",
      "metadata": {}
    },
    {
      "id": "441b82d9-cd58-411f-8126-9a799f64965f",
      "cell_type": "markdown",
      "source": "## Author \nDayeon Kim",
      "metadata": {}
    },
    {
      "id": "209d15aa-8b89-4ecd-ae44-812b77247855",
      "cell_type": "code",
      "source": "",
      "metadata": {
        "trusted": true
      },
      "outputs": [],
      "execution_count": null
    }
  ]
}